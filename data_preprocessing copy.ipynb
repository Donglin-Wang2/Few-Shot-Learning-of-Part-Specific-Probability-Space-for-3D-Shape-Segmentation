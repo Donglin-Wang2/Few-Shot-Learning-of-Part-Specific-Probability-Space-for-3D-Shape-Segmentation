{
 "cells": [
  {
   "cell_type": "code",
   "execution_count": 10,
   "metadata": {},
   "outputs": [],
   "source": [
    "############################\n",
    "#Author\n",
    "#Lingjing Wang and Xiang Li\n",
    "#Date: June 2020\n",
    "############################\n",
    "\n",
    "%matplotlib inline\n",
    "import glob\n",
    "import numpy as np\n",
    "import os\n",
    "import pandas as pd\n",
    "from scipy.io import loadmat\n",
    "import matplotlib.pylab as plt\n",
    "import glob\n",
    "from scipy.ndimage.interpolation import rotate\n",
    "import scipy\n",
    "import tensorflow as tf\n",
    "import Utils\n",
    "import h5py\n",
    "from mpl_toolkits.mplot3d import Axes3D\n",
    "colorsMap='jet'\n",
    "import matplotlib\n",
    "import matplotlib.cm as cmx"
   ]
  },
  {
   "cell_type": "code",
   "execution_count": 11,
   "metadata": {},
   "outputs": [
    {
     "name": "stdout",
     "output_type": "stream",
     "text": [
      "(11823, 2048, 3) (11823,) (11823, 2048)\n"
     ]
    }
   ],
   "source": [
    "# DD input point sets; LL categorical label; PP point label\n",
    "data_path = '/home/donglin/Github/acronym-partnet/data/'\n",
    "DD = np.load(data_path + 'combined_points.npy')\n",
    "LL = np.load(data_path + 'combined_shape_labels.npy')\n",
    "PP = np.load(data_path + 'combined_point_labels.npy')\n",
    "print(DD.shape, LL.shape, PP.shape)"
   ]
  },
  {
   "cell_type": "code",
   "execution_count": null,
   "metadata": {},
   "outputs": [],
   "source": []
  },
  {
   "cell_type": "code",
   "execution_count": 16,
   "metadata": {},
   "outputs": [
    {
     "name": "stdout",
     "output_type": "stream",
     "text": [
      "(4, 2048, 3) (4, 2048) (243, 2048, 3) (243, 2048)\n"
     ]
    }
   ],
   "source": [
    "cls=7 # Mug BABY!!!!!\n",
    "num_temp=4 # choose number of templates\n",
    "\n",
    "\n",
    "ind=(LL==cls).reshape(-1,)\n",
    "dd=DD[ind][:,:,:]\n",
    "pp=PP[ind]\n",
    "\n",
    "# Choose templates with point label information\n",
    "# tmp=np.random.choice(range(len(dd)),num_temp)\n",
    "tmp = [0,1,2]\n",
    "#chair\n",
    "# tmp=[0,2,5,8,9,16,39,51,285,305]\n",
    "\n",
    "# dT: template point sets; pT: template points' segmentation labels; dd: target point sets; pp: target points' segmentation labels\n",
    "dT=dd[tmp]\n",
    "pT=pp[tmp]\n",
    "dd=dd[np.asarray([i for i in range(len(dd)) if i not in tmp])]\n",
    "pp=pp[np.asarray([i for i in range(len(pp)) if i not in tmp])]\n",
    "print(dT.shape, pT.shape, dd.shape, pp.shape)"
   ]
  },
  {
   "cell_type": "code",
   "execution_count": 17,
   "metadata": {},
   "outputs": [],
   "source": [
    "def chamfer_loss_np(A,B):    \n",
    "    r=np.sum(A*A,2)\n",
    "    r=np.reshape(r,[int(r.shape[0]),int(r.shape[1]),1])\n",
    "    r2=np.sum(B*B,2)\n",
    "    r2=np.reshape(r2,[int(r.shape[0]),int(r.shape[1]),1])\n",
    "    t=(r-2*np.matmul(A, np.transpose(B,(0, 2, 1)))+ np.transpose(r2,(0, 2, 1)))\n",
    "    return np.mean((np.min(t, axis=1)+np.min(t,axis=2))/2.0,axis=-1)"
   ]
  },
  {
   "cell_type": "code",
   "execution_count": 18,
   "metadata": {
    "scrolled": true
   },
   "outputs": [
    {
     "name": "stdout",
     "output_type": "stream",
     "text": [
      "0\n",
      "10\n",
      "20\n",
      "30\n",
      "40\n",
      "50\n",
      "60\n",
      "70\n",
      "80\n",
      "90\n",
      "100\n",
      "110\n",
      "120\n",
      "130\n",
      "140\n",
      "150\n",
      "160\n",
      "170\n",
      "180\n",
      "190\n",
      "200\n",
      "210\n",
      "220\n",
      "230\n",
      "240\n"
     ]
    }
   ],
   "source": [
    "# For each shape as target point sets, we firstly retrive the nearest template with labels for them.\n",
    "# This process might take a while if you have a large number of target shapes \n",
    "D=[] \n",
    "P=[]\n",
    "T=[]\n",
    "TP=[]\n",
    "\n",
    "for j in range(len(dd)):\n",
    "#     print(j)\n",
    "    xx=dd[j]\n",
    "    xx=np.tile(np.expand_dims(xx,0),[num_temp,1,1])\n",
    "    cl=chamfer_loss_np(xx[:,:,:], dT[:,:,:])\n",
    "    n=np.argmin(np.asarray(cl).reshape(-1))\n",
    "    \n",
    "    D.append(dd[j])\n",
    "    P.append(pp[j])\n",
    "    T.append(dT[n])\n",
    "    TP.append(pT[n])\n",
    "    \n",
    "    if j%10 == 0:\n",
    "        print(j)"
   ]
  },
  {
   "cell_type": "code",
   "execution_count": 19,
   "metadata": {},
   "outputs": [
    {
     "name": "stdout",
     "output_type": "stream",
     "text": [
      "(243, 2048, 3) (243, 2048) (243, 2048, 3) (243, 2048)\n"
     ]
    }
   ],
   "source": [
    "print(np.array(D).shape, np.array(P).shape, np.array(T).shape, np.array(TP).shape)"
   ]
  },
  {
   "cell_type": "code",
   "execution_count": 20,
   "metadata": {},
   "outputs": [
    {
     "data": {
      "image/png": "[encoded data removed]",
      "text/plain": [
       "<Figure size 1080x360 with 3 Axes>"
      ]
     },
     "metadata": {
      "needs_background": "light"
     },
     "output_type": "display_data"
    }
   ],
   "source": [
    "# visulize the dataset:\n",
    "x=D[0]\n",
    "cs=P[0]\n",
    "fig = plt.figure(1, figsize=(15, 5))\n",
    "ax = fig.add_subplot(1, 3, 1, projection='3d')\n",
    "x=Utils.rotate_90_degree(Utils.rotate_90_degree(Utils.rotate_90_degree(x)))\n",
    "cm = plt.get_cmap(colorsMap)\n",
    "cNorm = matplotlib.colors.Normalize(vmin=min(cs), vmax=max(cs))\n",
    "scalarMap = cmx.ScalarMappable(norm=cNorm, cmap=cm)\n",
    "# ax.scatter(x[:,1], x[:,2], x[:,0], c=scalarMap.to_rgba(cs),s=4)\n",
    "ax.scatter(x[:,1], x[:,2], x[:,0], c='b',s=4)\n",
    "scalarMap.set_array(cs)\n",
    "ax.set_xlim(-1,1)\n",
    "ax.set_ylim(-1,1)\n",
    "ax.set_zlim(-1,1)\n",
    "plt.title('Input target shape')\n",
    "plt.axis(\"off\")\n",
    "ax = fig.add_subplot(1, 3, 2, projection='3d')\n",
    "x=T[0]\n",
    "cs=TP[0]\n",
    "x=Utils.rotate_90_degree(Utils.rotate_90_degree(Utils.rotate_90_degree(x)))\n",
    "cm = plt.get_cmap(colorsMap)\n",
    "cNorm = matplotlib.colors.Normalize(vmin=min(cs), vmax=max(cs))\n",
    "scalarMap = cmx.ScalarMappable(norm=cNorm, cmap=cm)\n",
    "ax.scatter(x[:,1], x[:,2], x[:,0], c=scalarMap.to_rgba(cs),s=4)\n",
    "scalarMap.set_array(cs)\n",
    "ax.set_xlim(-1,1)\n",
    "ax.set_ylim(-1,1)\n",
    "ax.set_zlim(-1,1)\n",
    "plt.axis(\"off\")\n",
    "plt.title('Retrived Template shape with labels')\n",
    "ax = fig.add_subplot(1, 3, 3, projection='3d')\n",
    "x=D[0]\n",
    "cs=P[0]\n",
    "fig = plt.figure(1, figsize=(15, 5))\n",
    "x=Utils.rotate_90_degree(Utils.rotate_90_degree(Utils.rotate_90_degree(x)))\n",
    "cm = plt.get_cmap(colorsMap)\n",
    "cNorm = matplotlib.colors.Normalize(vmin=min(cs), vmax=max(cs))\n",
    "scalarMap = cmx.ScalarMappable(norm=cNorm, cmap=cm)\n",
    "ax.scatter(x[:,1], x[:,2], x[:,0], c=scalarMap.to_rgba(cs),s=4)\n",
    "scalarMap.set_array(cs)\n",
    "ax.set_xlim(-1,1)\n",
    "ax.set_ylim(-1,1)\n",
    "ax.set_zlim(-1,1)\n",
    "plt.title('Target shape with ground truth labels ')\n",
    "plt.axis(\"off\")\n",
    "plt.show()"
   ]
  },
  {
   "cell_type": "code",
   "execution_count": 21,
   "metadata": {},
   "outputs": [
    {
     "data": {
      "text/plain": [
       "8"
      ]
     },
     "execution_count": 21,
     "metadata": {},
     "output_type": "execute_result"
    }
   ],
   "source": [
    "np.asarray(P).min()"
   ]
  },
  {
   "cell_type": "code",
   "execution_count": 22,
   "metadata": {},
   "outputs": [
    {
     "name": "stdout",
     "output_type": "stream",
     "text": [
      "writing successfully in your dir:./mug_N2048.tfrecords\n"
     ]
    }
   ],
   "source": [
    "Utils.write_to_tfrecords({\"D\":np.asarray(D),\"P\":np.asarray(P)-np.asarray(P).min(),\"T\":np.asarray(T),\"TP\":np.asarray(TP)-np.asarray(P).min()},\n",
    "                           \"./mug_N2048.tfrecords\")"
   ]
  },
  {
   "cell_type": "code",
   "execution_count": 26,
   "metadata": {},
   "outputs": [
    {
     "name": "stdout",
     "output_type": "stream",
     "text": [
      "[0 6]\n",
      "[0 1 6]\n"
     ]
    }
   ],
   "source": [
    "print(np.unique(np.asarray(TP)-np.asarray(P).min()))\n",
    "print(np.unique(np.asarray(P)-np.asarray(P).min()))"
   ]
  },
  {
   "cell_type": "code",
   "execution_count": null,
   "metadata": {},
   "outputs": [],
   "source": []
  }
 ],
 "metadata": {
  "interpreter": {
   "hash": "1ed72bcfecfd46c85cf5baaaf269242447cba67c4933d78848127969168b65d0"
  },
  "kernelspec": {
   "display_name": "Python 3.7.11 ('temp-seg37')",
   "language": "python",
   "name": "python3"
  },
  "language_info": {
   "codemirror_mode": {
    "name": "ipython",
    "version": 3
   },
   "file_extension": ".py",
   "mimetype": "text/x-python",
   "name": "python",
   "nbconvert_exporter": "python",
   "pygments_lexer": "ipython3",
   "version": "3.7.11"
  }
 },
 "nbformat": 4,
 "nbformat_minor": 2
}
